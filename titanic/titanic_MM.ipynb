{
 "cells": [
  {
   "cell_type": "code",
   "execution_count": 28,
   "id": "19b7a25e",
   "metadata": {},
   "outputs": [],
   "source": [
    "import numpy as np\n",
    "import os as os\n",
    "import pandas\n",
    "import seaborn as sns\n",
    "import matplotlib.pyplot as plt\n",
    "from sklearn.utils import shuffle\n",
    "from tensorflow import keras\n",
    "from tensorflow.keras import layers\n",
    "import plotly.express as px\n",
    "\n",
    "#setting up dataset paths\n",
    "base_path = r\"C:\\Users\\Mehrab\\test\\Kaggle_projects\\titanic\"\n",
    "train_path = os.path.join(base_path, 'train.csv')\n",
    "test_path = os.path.join(base_path, 'test.csv')\n",
    "\n",
    "#reading in datasets\n",
    "train_data = pandas.read_csv(train_path)\n",
    "test_data = pandas.read_csv(test_path)"
   ]
  },
  {
   "cell_type": "code",
   "execution_count": null,
   "id": "5bd90b6b",
   "metadata": {},
   "outputs": [],
   "source": []
  },
  {
   "cell_type": "code",
   "execution_count": 29,
   "id": "65384003",
   "metadata": {},
   "outputs": [
    {
     "data": {
      "text/html": [
       "<div>\n",
       "<style scoped>\n",
       "    .dataframe tbody tr th:only-of-type {\n",
       "        vertical-align: middle;\n",
       "    }\n",
       "\n",
       "    .dataframe tbody tr th {\n",
       "        vertical-align: top;\n",
       "    }\n",
       "\n",
       "    .dataframe thead th {\n",
       "        text-align: right;\n",
       "    }\n",
       "</style>\n",
       "<table border=\"1\" class=\"dataframe\">\n",
       "  <thead>\n",
       "    <tr style=\"text-align: right;\">\n",
       "      <th></th>\n",
       "      <th>PassengerId</th>\n",
       "      <th>Survived</th>\n",
       "      <th>Pclass</th>\n",
       "      <th>Age</th>\n",
       "      <th>SibSp</th>\n",
       "      <th>Parch</th>\n",
       "      <th>Fare</th>\n",
       "    </tr>\n",
       "  </thead>\n",
       "  <tbody>\n",
       "    <tr>\n",
       "      <th>count</th>\n",
       "      <td>372.000000</td>\n",
       "      <td>372.0</td>\n",
       "      <td>372.0</td>\n",
       "      <td>270.000000</td>\n",
       "      <td>372.000000</td>\n",
       "      <td>372.000000</td>\n",
       "      <td>372.000000</td>\n",
       "    </tr>\n",
       "    <tr>\n",
       "      <th>mean</th>\n",
       "      <td>453.580645</td>\n",
       "      <td>0.0</td>\n",
       "      <td>3.0</td>\n",
       "      <td>26.555556</td>\n",
       "      <td>0.672043</td>\n",
       "      <td>0.384409</td>\n",
       "      <td>13.669364</td>\n",
       "    </tr>\n",
       "    <tr>\n",
       "      <th>std</th>\n",
       "      <td>263.090509</td>\n",
       "      <td>0.0</td>\n",
       "      <td>0.0</td>\n",
       "      <td>12.334882</td>\n",
       "      <td>1.504700</td>\n",
       "      <td>0.914144</td>\n",
       "      <td>12.118338</td>\n",
       "    </tr>\n",
       "    <tr>\n",
       "      <th>min</th>\n",
       "      <td>1.000000</td>\n",
       "      <td>0.0</td>\n",
       "      <td>3.0</td>\n",
       "      <td>1.000000</td>\n",
       "      <td>0.000000</td>\n",
       "      <td>0.000000</td>\n",
       "      <td>0.000000</td>\n",
       "    </tr>\n",
       "    <tr>\n",
       "      <th>25%</th>\n",
       "      <td>206.750000</td>\n",
       "      <td>0.0</td>\n",
       "      <td>3.0</td>\n",
       "      <td>19.000000</td>\n",
       "      <td>0.000000</td>\n",
       "      <td>0.000000</td>\n",
       "      <td>7.750000</td>\n",
       "    </tr>\n",
       "    <tr>\n",
       "      <th>50%</th>\n",
       "      <td>470.000000</td>\n",
       "      <td>0.0</td>\n",
       "      <td>3.0</td>\n",
       "      <td>25.000000</td>\n",
       "      <td>0.000000</td>\n",
       "      <td>0.000000</td>\n",
       "      <td>8.050000</td>\n",
       "    </tr>\n",
       "    <tr>\n",
       "      <th>75%</th>\n",
       "      <td>679.500000</td>\n",
       "      <td>0.0</td>\n",
       "      <td>3.0</td>\n",
       "      <td>33.000000</td>\n",
       "      <td>1.000000</td>\n",
       "      <td>0.000000</td>\n",
       "      <td>15.136450</td>\n",
       "    </tr>\n",
       "    <tr>\n",
       "      <th>max</th>\n",
       "      <td>891.000000</td>\n",
       "      <td>0.0</td>\n",
       "      <td>3.0</td>\n",
       "      <td>74.000000</td>\n",
       "      <td>8.000000</td>\n",
       "      <td>6.000000</td>\n",
       "      <td>69.550000</td>\n",
       "    </tr>\n",
       "  </tbody>\n",
       "</table>\n",
       "</div>"
      ],
      "text/plain": [
       "       PassengerId  Survived  Pclass         Age       SibSp       Parch  \\\n",
       "count   372.000000     372.0   372.0  270.000000  372.000000  372.000000   \n",
       "mean    453.580645       0.0     3.0   26.555556    0.672043    0.384409   \n",
       "std     263.090509       0.0     0.0   12.334882    1.504700    0.914144   \n",
       "min       1.000000       0.0     3.0    1.000000    0.000000    0.000000   \n",
       "25%     206.750000       0.0     3.0   19.000000    0.000000    0.000000   \n",
       "50%     470.000000       0.0     3.0   25.000000    0.000000    0.000000   \n",
       "75%     679.500000       0.0     3.0   33.000000    1.000000    0.000000   \n",
       "max     891.000000       0.0     3.0   74.000000    8.000000    6.000000   \n",
       "\n",
       "             Fare  \n",
       "count  372.000000  \n",
       "mean    13.669364  \n",
       "std     12.118338  \n",
       "min      0.000000  \n",
       "25%      7.750000  \n",
       "50%      8.050000  \n",
       "75%     15.136450  \n",
       "max     69.550000  "
      ]
     },
     "execution_count": 29,
     "metadata": {},
     "output_type": "execute_result"
    }
   ],
   "source": [
    "#Inspecting data manually for predictive variables\n",
    "#summarising subsets of data for visual inspection\n",
    "train_data[(train_data['Pclass'] == 3) & (train_data['Survived'] == 0)].describe()\n",
    "\n",
    "#Notes: Pclass, Sex, SibSp and Parch are decent predictors of survival as a first pass; \n",
    "#Fare and PClass are pretty strongly correlated"
   ]
  },
  {
   "cell_type": "code",
   "execution_count": 30,
   "id": "b6680989",
   "metadata": {},
   "outputs": [
    {
     "data": {
      "image/png": "[encoded data removed]",
      "text/plain": [
       "<Figure size 432x288 with 2 Axes>"
      ]
     },
     "metadata": {
      "needs_background": "light"
     },
     "output_type": "display_data"
    }
   ],
   "source": [
    "#Manual inspection part2\n",
    "\n",
    "#only keeping columns that are useful and creating dummies for useful categorical columns\n",
    "train_data = train_data[['Survived', 'Pclass', 'Sex', 'Age', 'SibSp', 'Parch', 'Fare']]\n",
    "test_data = test_data[['Pclass', 'Sex', 'Age', 'SibSp', 'Parch', 'Fare']]\n",
    "\n",
    "#Replacing categoricals with dummy variables\n",
    "train_data_d = pandas.get_dummies(train_data, dummy_na = False)\n",
    "test_data_d = pandas.get_dummies(test_data, dummy_na = False)\n",
    "\n",
    "#plotting correlation matrix\n",
    "corr_mat = train_data_d.corr()\n",
    "sns.heatmap(corr_mat, annot=True)\n",
    "plt.show()"
   ]
  },
  {
   "cell_type": "code",
   "execution_count": 31,
   "id": "7a3729c5",
   "metadata": {},
   "outputs": [
    {
     "data": {
      "text/plain": [
       "<matplotlib.collections.PathCollection at 0x28291e82b20>"
      ]
     },
     "execution_count": 31,
     "metadata": {},
     "output_type": "execute_result"
    },
    {
     "data": {
      "image/png": "[encoded data removed]",
      "text/plain": [
       "<Figure size 432x288 with 1 Axes>"
      ]
     },
     "metadata": {
      "needs_background": "light"
     },
     "output_type": "display_data"
    }
   ],
   "source": [
    "#checking if SibSp and Parch are highly correlated\n",
    "plt.scatter(train_data_d['SibSp'],train_data_d['Parch'], color = 'crimson')\n",
    "\n",
    "#They are not. Leaving both in the training set."
   ]
  },
  {
   "cell_type": "code",
   "execution_count": 77,
   "id": "17385e69",
   "metadata": {},
   "outputs": [
    {
     "name": "stdout",
     "output_type": "stream",
     "text": [
      "(891, 7)\n",
      "Survived      0\n",
      "Pclass        0\n",
      "Sex           0\n",
      "Age         177\n",
      "SibSp         0\n",
      "Parch         0\n",
      "Fare          0\n",
      "dtype: int64\n",
      "\n",
      "\n",
      "(418, 6)\n",
      "Pclass     0\n",
      "Sex        0\n",
      "Age       86\n",
      "SibSp      0\n",
      "Parch      0\n",
      "Fare       1\n",
      "dtype: int64\n"
     ]
    }
   ],
   "source": [
    "#Data cleaning - since we know what columns are desirable, check for missing values in each\n",
    "nan_locs = pandas.isna(train_data)    #done before dummy variables are created so n-rows don't match with dataframe containing dummy vars\n",
    "print(nan_locs.shape)\n",
    "nan_locs.describe()\n",
    "print(nan_locs.sum())\n",
    "print('\\n')\n",
    "\n",
    "#checking test data for NaNs\n",
    "nan_locs_tr = pandas.isna(test_data)    #done before dummy variables are created so n-rows don't match with dataframe containing dummy vars\n",
    "print(nan_locs_tr.shape)\n",
    "print(nan_locs_tr.sum())\n",
    "\n",
    "#~ 25% of age values are missing. \n",
    "#Creating three types of datasets: \n",
    "#1. All data included, Nans set to 0\n",
    "#2. Rows containing Nans excluded, Age included (lose 25% of training and test data)\n",
    "#3. Age excluded\n",
    "\n",
    "#1. NaNs set to 0 \n",
    "train_data_nanzer = train_data.fillna(0)   #replacing nans with 0's\n",
    "train_data_nanzer = pandas.get_dummies(train_data_nanzer, dummy_na = False)  #converting 'Sex' to dummies\n",
    "test_data_nanzer = test_data.fillna(0)   #replacing nans with 0's\n",
    "test_data_nanzer = pandas.get_dummies(test_data_nanzer, dummy_na = False)  #converting 'Sex' to dummies\n",
    "\n",
    "\n",
    "#2. Removed rows containing a NaN\n",
    "train_data_nonans = train_data.dropna(axis = 0)\n",
    "train_data_nonans = pandas.get_dummies(train_data_nonans)\n",
    "test_data_nonans = test_data.dropna(axis = 0)\n",
    "test_data_nonans = pandas.get_dummies(test_data_nonans)\n",
    "\n",
    "#3. Dropped the Age column and replaced any other rare, NaNs with 0\n",
    "train_data_noage = train_data[['Survived', 'Pclass', 'Sex', 'SibSp', 'Parch', 'Fare']]\n",
    "train_data_noage = pandas.get_dummies(train_data_noage)\n",
    "test_data_noage = test_data[['Pclass', 'Sex', 'SibSp', 'Parch', 'Fare']]\n",
    "test_data_noage = pandas.get_dummies(test_data_noage)\n",
    "\n",
    "train_data_trimmed = train_data[['Survived', 'Sex']]\n",
    "train_data_trimmed = pandas.get_dummies(train_data_trimmed)"
   ]
  },
  {
   "cell_type": "code",
   "execution_count": 86,
   "id": "83ad887a",
   "metadata": {},
   "outputs": [],
   "source": [
    "#Picking which data to train model on\n",
    "#1. All NaNs set to 0\n",
    "#train_data_d = train_data_nanzer\n",
    "\n",
    "#2. All rows containing NaNs are dropped\n",
    "#train_data_d = train_data_nonans\n",
    "\n",
    "#3. Age column dropped\n",
    "#train_data_d = train_data_noage\n",
    "\n",
    "\n",
    "train_data_d = train_data_nanzer"
   ]
  },
  {
   "cell_type": "code",
   "execution_count": 87,
   "id": "d837495f",
   "metadata": {},
   "outputs": [],
   "source": [
    "#creating training, validation and test subsets from the training set\n",
    "n_rows_train = train_data_d.shape[0] \n",
    "n_validation_samps = int(np.floor(n_rows_train/10))\n",
    "\n",
    "train_data_d_copy = train_data_d\n",
    "\n",
    "#shuffling training set, then sub-sampling to make training, validation, test splits \n",
    "train_data_d_copy = shuffle(train_data_d_copy, random_state = 85)\n",
    "\n",
    "train_y = train_data_d_copy.iloc[0:(n_rows_train - 2*n_validation_samps), 0]\n",
    "train_y = train_y.values\n",
    "train_x = train_data_d_copy.iloc[0:(n_rows_train - 2*n_validation_samps), 1:(train_data_d.shape[1])]\n",
    "train_x = train_x.values\n",
    "#dropping rows used to create training set\n",
    "train_data_d_copy.drop(train_data_d_copy.index[0:(n_rows_train - 2*n_validation_samps)], axis = 0, inplace = True)\n",
    "\n",
    "valid_y = train_data_d_copy.iloc[0:n_validation_samps, 0]\n",
    "valid_ = valid_y.values\n",
    "valid_x = train_data_d_copy.iloc[0:n_validation_samps, 1:(train_data_d.shape[1])]\n",
    "valid_x = valid_x.values\n",
    "#dropping rows used to create valid. set\n",
    "train_data_d_copy.drop(train_data_d_copy.index[0:n_validation_samps], axis = 0, inplace = True)\n",
    "\n",
    "test_y = train_data_d_copy.iloc[0:n_validation_samps, 0]\n",
    "test_y = test_y.values\n",
    "test_x = train_data_d_copy.iloc[0:n_validation_samps, 1:(train_data_d.shape[1])]\n",
    "test_x = test_x.values\n",
    "\n"
   ]
  },
  {
   "cell_type": "code",
   "execution_count": 88,
   "id": "f1a4de7a",
   "metadata": {},
   "outputs": [],
   "source": [
    "#regularizing train, val and test input data with mean and sd of training data\n",
    "train_means = np.nanmean(train_x, 0)\n",
    "train_sds = np.nanstd(train_x, 0)\n",
    "train_x = (train_x - train_means)/train_sds\n",
    "valid_x = (valid_x - train_means)/train_sds\n",
    "test_x = (test_x - train_means)/train_sds"
   ]
  },
  {
   "cell_type": "code",
   "execution_count": 89,
   "id": "d9c2624a",
   "metadata": {},
   "outputs": [],
   "source": [
    "#1. building keras log-reg model\n",
    "#model = keras.Sequential([\n",
    "        #layers.Dense(1, activation = 'sigmoid', input_dim = train_x.shape[1])\n",
    "        #])\n",
    "\n",
    "\n",
    "#2. building keras dense layer with a single sigmoidal output layer\n",
    "model = keras.Sequential([\n",
    "        layers.Dense(12, activation = 'relu', kernel_regularizer= keras.regularizers.l2(0.005), input_dim = train_x.shape[1]),\n",
    "        layers.Dense(1, activation = 'sigmoid')\n",
    "        ])\n",
    "\n",
    "\n",
    "#specifying fit configuration\n",
    "model.compile(optimizer='rmsprop', loss='binary_crossentropy', metrics = ['accuracy'])\n",
    "\n",
    "\n",
    "#running fit with specified parameters\n",
    "history = model.fit(train_x, train_y, epochs = 30, validation_data = (valid_x, valid_y), verbose = 0)"
   ]
  },
  {
   "cell_type": "code",
   "execution_count": 90,
   "id": "914503d7",
   "metadata": {},
   "outputs": [
    {
     "data": {
      "text/plain": [
       "Text(0, 0.5, 'accuracy')"
      ]
     },
     "execution_count": 90,
     "metadata": {},
     "output_type": "execute_result"
    },
    {
     "data": {
      "image/png": "[encoded data removed]",
      "text/plain": [
       "<Figure size 432x288 with 1 Axes>"
      ]
     },
     "metadata": {
      "needs_background": "light"
     },
     "output_type": "display_data"
    }
   ],
   "source": [
    "#plotting model performance\n",
    "fig, (ax1) = plt.subplots()\n",
    "plt.plot(history.history['accuracy'], 'b')\n",
    "plt.plot(history.history['val_accuracy'], 'bo')\n",
    "\n",
    "ax1.set_xlabel('epochs')\n",
    "ax1.set_ylabel('accuracy')"
   ]
  },
  {
   "cell_type": "code",
   "execution_count": 91,
   "id": "fd2e87d6",
   "metadata": {},
   "outputs": [
    {
     "name": "stdout",
     "output_type": "stream",
     "text": [
      "3/3 [==============================] - 0s 1ms/step\n"
     ]
    }
   ],
   "source": [
    "#looking at which observations in the validation set the model predicts incorrectly\n",
    "valid_preds = model.predict(valid_x)\n",
    "valid_preds = np.round(valid_preds)  #rounding output probabilities to give predictions"
   ]
  },
  {
   "cell_type": "code",
   "execution_count": 92,
   "id": "cfb3b89a",
   "metadata": {},
   "outputs": [
    {
     "name": "stdout",
     "output_type": "stream",
     "text": [
      "340   -1.0\n",
      "701   -1.0\n",
      "510   -1.0\n",
      "788   -1.0\n",
      "444   -1.0\n",
      "838   -1.0\n",
      "187   -1.0\n",
      "193   -1.0\n",
      "755   -1.0\n",
      "125   -1.0\n",
      "205    1.0\n",
      "14     1.0\n",
      "127   -1.0\n",
      "220   -1.0\n",
      "857   -1.0\n",
      "799    1.0\n",
      "254    1.0\n",
      "707   -1.0\n",
      "Name: Survived, dtype: float64\n",
      "[[ 2.      2.      1.      1.     26.      0.      1.    ]\n",
      " [ 1.     35.      0.      0.     26.2875  0.      1.    ]\n",
      " [ 3.     29.      0.      0.      7.75    0.      1.    ]\n",
      " [ 3.      1.      1.      2.     20.575   0.      1.    ]\n",
      " [ 3.      0.      0.      0.      8.1125  0.      1.    ]\n",
      " [ 3.     32.      0.      0.     56.4958  0.      1.    ]\n",
      " [ 1.     45.      0.      0.     26.55    0.      1.    ]\n",
      " [ 2.      3.      1.      1.     26.      0.      1.    ]\n",
      " [ 2.      0.67    1.      1.     14.5     0.      1.    ]\n",
      " [ 3.     12.      1.      0.     11.2417  0.      1.    ]\n",
      " [ 3.      2.      0.      1.     10.4625  1.      0.    ]\n",
      " [ 3.     14.      0.      0.      7.8542  1.      0.    ]\n",
      " [ 3.     24.      0.      0.      7.1417  0.      1.    ]\n",
      " [ 3.     16.      0.      0.      8.05    0.      1.    ]\n",
      " [ 1.     51.      0.      0.     26.55    0.      1.    ]\n",
      " [ 3.     30.      1.      1.     24.15    1.      0.    ]\n",
      " [ 3.     41.      0.      2.     20.2125  1.      0.    ]\n",
      " [ 1.     42.      0.      0.     26.2875  0.      1.    ]]\n"
     ]
    }
   ],
   "source": [
    "diffs = np.squeeze(valid_preds) - valid_y\n",
    "print(diffs[diffs !=0])\n",
    "print(valid_x[diffs != 0]*train_sds + train_means)"
   ]
  },
  {
   "cell_type": "code",
   "execution_count": null,
   "id": "5686aceb",
   "metadata": {},
   "outputs": [],
   "source": [
    "train_x"
   ]
  },
  {
   "cell_type": "code",
   "execution_count": null,
   "id": "48033df8",
   "metadata": {},
   "outputs": [],
   "source": []
  }
 ],
 "metadata": {
  "kernelspec": {
   "display_name": "Python 3 (ipykernel)",
   "language": "python",
   "name": "python3"
  },
  "language_info": {
   "codemirror_mode": {
    "name": "ipython",
    "version": 3
   },
   "file_extension": ".py",
   "mimetype": "text/x-python",
   "name": "python",
   "nbconvert_exporter": "python",
   "pygments_lexer": "ipython3",
   "version": "3.9.12"
  }
 },
 "nbformat": 4,
 "nbformat_minor": 5
}
